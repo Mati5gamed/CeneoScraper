{
 "cells": [
  {
   "cell_type": "markdown",
   "metadata": {},
   "source": [
    "### import bibliotek"
   ]
  },
  {
   "cell_type": "code",
   "execution_count": 21,
   "metadata": {},
   "outputs": [],
   "source": [
    "import pandas as pd\n",
    "import os\n",
    "import numpy as np\n",
    "from matplotlib import pyplot as plt"
   ]
  },
  {
   "cell_type": "markdown",
   "metadata": {},
   "source": [
    "### wczytanie i przygotowanie danych"
   ]
  },
  {
   "cell_type": "code",
   "execution_count": 2,
   "metadata": {},
   "outputs": [
    {
     "name": "stdout",
     "output_type": "stream",
     "text": [
      "157123293\n",
      "17277659\n",
      "84514582\n"
     ]
    }
   ],
   "source": [
    "#wyświetlenie kodu z pobranymi opniniami \n",
    "print(*[filname.removesuffix(\".json\") for filname in os.listdir(\"./opinions\")],  sep=\"\\n\")\n"
   ]
  },
  {
   "cell_type": "code",
   "execution_count": 8,
   "metadata": {},
   "outputs": [],
   "source": [
    "#wczytanie danych z liku .json do obiektu przypominającego tabele\n",
    "product_id = input(\"podaj id produktu\")\n",
    "opinions = pd.read_json(f\"./opinions/{product_id}.json\")\n"
   ]
  },
  {
   "cell_type": "code",
   "execution_count": 9,
   "metadata": {},
   "outputs": [],
   "source": [
    "# transformacja danych \n",
    "opinions.stars = opinions.stars.apply(lambda s: s.split(\"/\")[0].replace(\",\",\".\")).astype(float)\n",
    "opinions.likes = opinions.likes.astype(int)\n",
    "opinions.dislikes = opinions.dislikes.astype(int)"
   ]
  },
  {
   "cell_type": "markdown",
   "metadata": {},
   "source": [
    "### Podstawowe statystyki "
   ]
  },
  {
   "cell_type": "code",
   "execution_count": 17,
   "metadata": {},
   "outputs": [
    {
     "name": "stdout",
     "output_type": "stream",
     "text": [
      "liczba opini o produkcie: 10\n",
      "liczba opini przy których podana  została lista zalet: 0\n",
      "liczba opini przy których podana  została lista wad: 0\n",
      "liczba opini przy których podana  została lista zalet oraz wad: 0\n",
      "średnia liczba gwiazdek produktu: 4.2\n"
     ]
    }
   ],
   "source": [
    "reviews_count = len(opinions.index)\n",
    "pros_count = opinions.pros.astype(bool).sum()\n",
    "cons_count = opinions.cons.astype(bool).sum()\n",
    "avarage_stars = round(opinions.stars.mean(),2)\n",
    "pros_cons_count =opinions.apply(lambda r: bool(r.pros) and bool(r.cons), axis=1).sum()\n",
    "\n",
    "print((f\"liczba opini o produkcie: {reviews_count}\"))\n",
    "print((f\"liczba opini przy których podana  została lista zalet: {pros_count}\"))\n",
    "print((f\"liczba opini przy których podana  została lista wad: {cons_count}\"))\n",
    "print((f\"liczba opini przy których podana  została lista zalet oraz wad: {pros_cons_count}\"))\n",
    "print((f\"średnia liczba gwiazdek produktu: {avarage_stars}\"))"
   ]
  },
  {
   "cell_type": "code",
   "execution_count": 18,
   "metadata": {},
   "outputs": [
    {
     "data": {
      "text/plain": [
       "Series([], Name: count, dtype: int64)"
      ]
     },
     "execution_count": 18,
     "metadata": {},
     "output_type": "execute_result"
    }
   ],
   "source": [
    "pros = opinions.pros.explode().value_counts()\n",
    "cons = opinions.cons.explode().value_counts()"
   ]
  },
  {
   "cell_type": "markdown",
   "metadata": {},
   "source": [
    " ### Wykresy"
   ]
  },
  {
   "cell_type": "code",
   "execution_count": 37,
   "metadata": {},
   "outputs": [],
   "source": [
    "recomandations = opinions.recomendation.value_counts(dropna = False).reindex( ['Nie polecam', 'Polecam',None], fill_value=0)"
   ]
  },
  {
   "cell_type": "code",
   "execution_count": 38,
   "metadata": {},
   "outputs": [
    {
     "data": {
      "text/plain": [
       "<Axes: >"
      ]
     },
     "execution_count": 38,
     "metadata": {},
     "output_type": "execute_result"
    },
    {
     "data": {
      "image/png": "[encoded data removed]",
      "text/plain": [
       "<Figure size 640x480 with 1 Axes>"
      ]
     },
     "metadata": {},
     "output_type": "display_data"
    }
   ],
   "source": [
    "recomandations.plot.pie(\n",
    "    label = \"\",\n",
    "    labels= [\"Nie polecam\",\"Polecam\",\"Nie mam zdania\"],\n",
    "    colors = [\"crimson\",\"forestgreen\",\"lightyellow\"],\n",
    "    autopct = \"%1.1f%%\",\n",
    ")"
   ]
  }
 ],
 "metadata": {
  "kernelspec": {
   "display_name": ".venv",
   "language": "python",
   "name": "python3"
  },
  "language_info": {
   "codemirror_mode": {
    "name": "ipython",
    "version": 3
   },
   "file_extension": ".py",
   "mimetype": "text/x-python",
   "name": "python",
   "nbconvert_exporter": "python",
   "pygments_lexer": "ipython3",
   "version": "3.11.4"
  }
 },
 "nbformat": 4,
 "nbformat_minor": 2
}
