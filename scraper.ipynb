{
 "cells": [
  {
   "cell_type": "markdown",
   "metadata": {},
   "source": [
    "# import bilbliotek"
   ]
  },
  {
   "cell_type": "code",
   "execution_count": 1,
   "metadata": {},
   "outputs": [],
   "source": [
    "import os\n",
    "import json\n",
    "import requests\n",
    "from bs4 import BeautifulSoup"
   ]
  },
  {
   "cell_type": "markdown",
   "metadata": {},
   "source": [
    "## Narzędzia\n"
   ]
  },
  {
   "cell_type": "code",
   "execution_count": 2,
   "metadata": {},
   "outputs": [],
   "source": [
    "def extract(ancestor,selector= None, atribute = None, many = False):\n",
    "    if selector:\n",
    "        if many:\n",
    "            if atribute:\n",
    "                return [item[atribute].strip() for item in ancestor.select(selector)]\n",
    "            return [item.text.strip() for item in ancestor.select(selector)]\n",
    "        if atribute:\n",
    "            try:\n",
    "                return ancestor.select_one(selector)[atribute].strip()\n",
    "            except TypeError: \n",
    "                return None\n",
    "        try:\n",
    "\n",
    "            return ancestor.select_one(selector).text.strip()\n",
    "        except AttributeError:\n",
    "            return None\n",
    "    if atribute:\n",
    "        try:\n",
    "            return ancestor[atribute]\n",
    "        except TypeError:\n",
    "            return None\n",
    "    return ancestor.text.strip()"
   ]
  },
  {
   "cell_type": "code",
   "execution_count": 3,
   "metadata": {},
   "outputs": [],
   "source": [
    "opinion_schema = {\n",
    "                    \"review_id\":(None,'data-entry-id'),\n",
    "                    \"author\":(\".user-post__author-name\",),\n",
    "                    \"recomendation\":(\".user-post__author-recomendation > em\",),\n",
    "                    \"stars\":(\".user-post__score-count\",),\n",
    "                    \"content\":(\".user-post__text\",),\n",
    "                    \"pros\":(\"review-feature__item review-feature__item--positive\",None,True),\n",
    "                    \"cons\":(\"review-feature__item review-feature__item--negative\",None,True),\n",
    "                    \"likes\":(\".vote-yes > span\",),\n",
    "                    \"dislikes\":(\".vote-no > span\",),\n",
    "                    \"publish_date\":(\".user-post__published > time:nth-child(1)\",'datetime'),\n",
    "                    \"purchase_date\":(\".user-post__published > time:nth-child(2)\",'datetime')\n",
    "\n",
    "                }"
   ]
  },
  {
   "cell_type": "markdown",
   "metadata": {},
   "source": [
    "## pobieranie opini o konkretnym produkcie"
   ]
  },
  {
   "cell_type": "code",
   "execution_count": 4,
   "metadata": {},
   "outputs": [],
   "source": [
    "with open(\"headers.json\",\"r\") as file:\n",
    "    headers = json.load(file)"
   ]
  },
  {
   "cell_type": "code",
   "execution_count": 9,
   "metadata": {},
   "outputs": [
    {
     "name": "stdout",
     "output_type": "stream",
     "text": [
      "10\n",
      "0\n",
      "[{'review_id': '19521058', 'author': 'AgnieszkaEwaP', 'recomendation': 'Polecam', 'stars': '5/5', 'content': 'Piękny, funkcjonalny, szybki. Design zachwyca. Szybkość w intuicyjnym, bezprzewodowym przesłaniu danych z jednego iphona na drugiego mnie zaskoczyła. Klient jest intuicyjnie prowadzony przez oprogramowanie po menu by w mniej niż 3 minuty telefon był w pełni gotowy do wszelkiej pracy i zawierał niezbędne dane zawarte na wcześniejszym sprzęcie firmy Apple. Reakcja Face ID jest błyskawiczna i znacząco ułatwia mi życie (po tym jak wcześniejszy iPhone kilkanaście razy dziennie prosił o podanie hasła przez nierozpoznanie mojej twarzy). Zdjęcia wychodzą faktycznie zachwycające! Menu jest tak dobrze zaprojektowanie, że bez podpowiedzi instrukcji klient radzi sobie ze wszystkim samodzielnie. Użytkowanie, ekran i praca aparatu 10/10. Polecam każdemu - wierna od 8 lat użytkowniczka firmy Apple ;)', 'pros': [], 'cons': [], 'likes': '1', 'dislikes': '2', 'publish_date': '2025-03-17 08:29:15', 'purchase_date': '2025-02-23 22:19:50'}, {'review_id': '19326822', 'author': 'my comfort mebli', 'recomendation': 'Polecam', 'stars': '5/5', 'content': '5 ✔️', 'pros': [], 'cons': [], 'likes': '4', 'dislikes': '0', 'publish_date': '2024-12-27 11:49:17', 'purchase_date': '2024-12-02 07:50:38'}, {'review_id': '19121593', 'author': 'Joachim', 'recomendation': 'Polecam', 'stars': '5/5', 'content': \"Przesiadłem się z iPhone'a 12 mini na iPhone 16 i muszę przyznać, że różnica jest odczuwalna, nie tylko pod względem wielkości, ale także w działaniu. Używam go dopiero od kilku dni, ale już zauważyłem kilka rzeczy, które nie zawsze są wspominane w recenzjach. Przede wszystkim, CarPlay działa teraz znacznie szybciej i sprawniej, a połączenia Bluetooth z innymi urządzeniami są bardziej stabilne i szybkie. Aparat robi niesamowite zdjęcia – jakość fotografii jest na zupełnie nowym poziomie. Jak na razie jestem bardzo zadowolony z tego zakupu!\", 'pros': [], 'cons': [], 'likes': '14', 'dislikes': '3', 'publish_date': '2024-10-10 08:24:16', 'purchase_date': '2024-10-07 16:01:28'}, {'review_id': '19379134', 'author': 'd...5', 'recomendation': 'Polecam', 'stars': '5/5', 'content': 'Jest piękny i jak dotąd nie mam zastrzeżeń, sprawuje się super chociaż wiadomo że cena lekko odrzuca, mimo wszytko można skorzystać z opcji raty zero więc serdecznie polecam!! 😊', 'pros': [], 'cons': [], 'likes': '6', 'dislikes': '2', 'publish_date': '2025-01-16 10:30:27', 'purchase_date': '2025-01-10 10:39:12'}, {'review_id': '19166722', 'author': 'k...4', 'recomendation': 'Polecam', 'stars': '4/5', 'content': 'Oczekiwałem czegoś lepszego, nie warto dopłacać do 16 pro lepiej iść w 15 pro. Przycisk zdjęć bezużyteczny, często jak chce się zrobić zdjęcie on wariuje i przybliża oddala. Wole korzystać z przycisku zmieniania głośności do robienia zdjęć :)). \\nNa początku były problemy z dotykiem, nie reagował często na otwieranie powiadomień, po aktualizacji znikł problem. Radzę się zastanowić czy warto dopłacać do 16 pro. ;)\\nBateria trzyma nieźle, przesiadłem się z 11pro więc jest różnica. Na plus na pewno najniższy poziom jasności ekranu, w ciemnych pomieszczeniach nie daje po oczach :)', 'pros': [], 'cons': [], 'likes': '13', 'dislikes': '6', 'publish_date': '2024-10-29 08:39:35', 'purchase_date': '2024-10-15 11:54:36'}, {'review_id': '19514319', 'author': 'Z...a', 'recomendation': 'Polecam', 'stars': '4/5', 'content': 'Przestawiałam się z iphone’a 11 pro. Ten model jest niestety zdecydowanie grubszy. Waży też więcej. Duży plus za dodatkowy obiektyw z zoomem optycznym x5 i przycisk do robienia zdjęć. Przycisk jest ok jako wyzwalacz ale zmiana trybu średnio praktyczna - łatwiej zmienić tryb na wyświetlaczu. Wydajność bez zastrzeżeń. Choć jakiejś wielkiej różnicy się nie odczuwa miedzy 11 pro a 16 pro. Spodziewałam się natomiast dłuższej pracy na baterii. Przy takim dość intensywnym użytkowaniu i tak codziennie muszę ładować. Przy takiej cenie telefonu oczekuje się w tym temacie czegoś więcej. Pamietam że w 11 pro moglam ładować co 2 dni na początku korzystania…', 'pros': [], 'cons': [], 'likes': '0', 'dislikes': '2', 'publish_date': '2025-03-15 09:18:40', 'purchase_date': '2025-02-20 11:08:17'}, {'review_id': '19513921', 'author': 'm...a', 'recomendation': 'Polecam', 'stars': '4/5', 'content': 'Telefon działa płynnie, jak powinien,zdjęcia na najwyższym poziomie, w zasadzie co więcej można powiedzieć o Apple)', 'pros': [], 'cons': [], 'likes': '0', 'dislikes': '0', 'publish_date': '2025-03-14 21:11:25', 'purchase_date': '2025-03-10 13:08:46'}, {'review_id': '19166921', 'author': 'Kuszczak1234', 'recomendation': 'Polecam', 'stars': '4/5', 'content': 'Warto przemyśleć czy warto dopłacać do 16pro.... Przycisk do robienia zdjęć na razie bezużyteczny, zdarza się że gdy chcesz zrobić zdjęcie on wariuje i przybliża oddala... na plus bateria po przesiadce z 11 pro nie do porównania :D. Na początku pojawił się problem z dotykiem, nie dało się otwierać powiadomień z ekranu blokady, dopiero po wejściu odblokowaniu tel i wejściu w centrum powiadomień, po aktualizacji znikł problem. W skrócie trzeba przemyśleć czy warto dopłacać za przycisk do zdjęć.. ( wiadomo parametry lepsze niż 15 pro, o trochę. Ale i tak warto się zastanowić).', 'pros': [], 'cons': [], 'likes': '4', 'dislikes': '4', 'publish_date': '2024-10-29 09:07:05', 'purchase_date': '2024-10-15 09:48:59'}, {'review_id': '19210140', 'author': 'Kamellot', 'recomendation': 'Polecam', 'stars': '5/5', 'content': 'Telefon użytkuje od 2 dni. Iphone jak iphone każdy wyzywa, że nie opłacalne i w sumie to tandeta, ale jak wyciągasz ten telefon to każdego zżera zazdrość i każdy z ciekawością patrzy na to z cieknącą ślinką mówiąc \"ooo masz nowego iphone\". Wyciągając z pudełka od razu czujesz pieniądz. Czarny mat ewidentnie pokazuje elegancję. Ale minus taki, że ja się bałem bez etui go używać, bo ciągle czuć jakby miał spaść. Sam przycisk aparatu, według mnie to jest to czego potrzebowałem. Nie musisz telefonu odblokowywać i aparat już gotowy do reakcji. Dla mnie mógłby by to być zwykły przycisk, bo tych dotykowych funkcji nie ma sensu używać. Jak go używałem, to nigdy nie wiedziałem co on zaraz odwali. Ktoś powie, że aparat mogę mieć pod przyciskiem funkcji. Tak, ale tam wolę mieć latarkę, która odziwo jest w pełni kontrolowana przez system. można sterować strumieniem czy ma być skupione czy rozproszone. Pierwszy raz coś takiego widzę w telefonie. Głośniki dla mnie najlepsze ze wszystkich telefonów, tiktoka, aż przyjemnie się ogląda. Wyświetlacz piękny, ale always on display od razu do wyłączenia. Przecież ten Oled zaraz się wypali. Face ID to cudo, które trzeba poznać i zawsze będę to mówił, ale dla bezpieczeństwa raczej nie odpalam funkcji z maseczką. Z telefonem dostajemy 3 miesiące Apple TV i Itunes. Denerwuje mnie jeszcze te całe 5G+. Niby fajnie bo szybko, ale czasami nie ma zasięgu i telefon głupieje co ma wybrać. Czy 5G+ ze słabym zasięgiem, ale szybsze czy 5G mocniejszy zasięg, ale wolniejsze. Producent nie może się ewidentnie zdecydować jaką ładowarkę kupić, dlatego nie dał nam żadnej, tylko przewód. Na opakaniu napisane 25W w instrukcji 30W, w internecie piszą o 45W, a system ogranicza do 38W. W skrócie ładuje się długo według mnie. Aparat no perfekcja. Może inne marki mają aplikacje aparatu lepsze, ale powiedzmy sobie szczerze. Zazwyczaj używasz aparatu innych aplikacji niż fabrycznej. Czyli instagram, snapchat, facebook, tiktok. I tam soft producentów skupia się, żeby iphone był najlepiej zoptymalizowany, dlatego od razu widać, że to było nagrywane na iphone. Poczekajmy jeszcze na apple intelligence, bo po ostatniej aktualizacji już w ustawieniach widać te rubrykę, więc kwestia czasu. A jak wiemy, apple może nie tworzy nowości tak jak android, ale apple sprawia, że ta nowość jest faktycznie użyteczna, bo dopracują ją do perfekcji. Czym by było face id bez np. ukrywania wiadomości mess przy zablokowanym ekranie, a pokazywania ich dopiero jak to Ty patrzysz w ekran. Bateria o wiele lepsza niż w iphone 15 pro, tam to było jakieś nieporozumienie. Grzejący i szybko padająca. Tutaj telefon zimny i długo utrzymujący poziom baterii. Zobaczymy jak z kondycją, ale skoro nie jest ciepły, to pewnie nawet o 50% lepiej.', 'pros': [], 'cons': [], 'likes': '13', 'dislikes': '21', 'publish_date': '2024-11-16 14:46:08', 'purchase_date': '2024-11-05 14:58:45'}, {'review_id': '19352524', 'author': 'robi250', 'recomendation': 'Nie polecam', 'stars': '1/5', 'content': 'Nie polecam. Miałem 12 pro max, po roku wymieniłem na 13 pro max. Nie znalazłem różnicy w tych smartfonach i postanowiłem nie wymieniać po roku. Po kilku latach gdy bateria słabo już trzyma, wymieniłem na 16 pro max. W nowym urządzeniu bateria jest prawie tak samo beznadziejna jak w starym. Telefon prawie nic się nie różni, poza „kosmetyką” czujników i kamery na wyświetlaczu, zmiany przełącznika wyciszania na guzik i dodatkowym przyciskiem do robienia zdjęć. Zoom w aparacie zwiększył się do x5. Poza tym jest to prawie takie samo urządzenie, z bardzo słabą baterią, słabymi aplikacjami. Za potrzebne narzędzia dostępne za darmo na androidzie, tutaj trzeba słono zapłacić. Podsumowując, bardzo drogi telefon, marnej jakości dla laików. Chętne wymieniłbym na samsunga s, ale za dużo zainwestowałem w inteligentne rozwiązania w domu, obsługiwane tą cegłą.', 'pros': [], 'cons': [], 'likes': '10', 'dislikes': '13', 'publish_date': '2025-01-07 08:57:58', 'purchase_date': '2024-12-05 20:26:03'}]\n"
     ]
    }
   ],
   "source": [
    "product_id = input(\"POdaj kod produktu\")\n",
    "next_page = f\"https://www.ceneo.pl/{product_id}#tab=reviews\"\n",
    "all_opinions = []\n",
    "while next_page:\n",
    "    response = requests.get(next_page, headers=headers)\n",
    "   #print(response.text)\n",
    "    if response.status_code == 200:\n",
    "        page_dom = BeautifulSoup(response.text, \"html.parser\")\n",
    "        opinions = page_dom.select(\".js_product-review:not(.user-post--highlight)\")\n",
    "        print(len(opinions))\n",
    "        for opinion in opinions:\n",
    "                single_opinion = {\n",
    "                   key: extract(opinion,*value)\n",
    "                   for key , value in opinion_schema.items()\n",
    "\n",
    "                }\n",
    "\n",
    "                all_opinions.append(single_opinion)\n",
    "\n",
    "            \n",
    "        try:\n",
    "            next_page = \"https://www.ceneo.pl\"+ extract(page_dom,\".pagination__next\",\"href\")\n",
    "            \n",
    "        except TypeError:\n",
    "            next_page = None\n",
    "print(all_opinions)"
   ]
  },
  {
   "cell_type": "markdown",
   "metadata": {},
   "source": [
    "## Zapisanie wszystkich opini o konkretnym produkcie w bazie danych"
   ]
  },
  {
   "cell_type": "code",
   "execution_count": 10,
   "metadata": {},
   "outputs": [],
   "source": [
    "if not os.path.exists(\"./opinions\"):\n",
    "    os.mkdir(\"./opinions\")"
   ]
  },
  {
   "cell_type": "code",
   "execution_count": 11,
   "metadata": {},
   "outputs": [],
   "source": [
    "with open(f\"./opinions/{product_id}.json\" , \"w\", encoding=\"utf-8\") as jf:\n",
    "    json.dump(all_opinions, jf, indent = 4, ensure_ascii=False)"
   ]
  }
 ],
 "metadata": {
  "kernelspec": {
   "display_name": ".venv",
   "language": "python",
   "name": "python3"
  },
  "language_info": {
   "codemirror_mode": {
    "name": "ipython",
    "version": 3
   },
   "file_extension": ".py",
   "mimetype": "text/x-python",
   "name": "python",
   "nbconvert_exporter": "python",
   "pygments_lexer": "ipython3",
   "version": "3.11.4"
  }
 },
 "nbformat": 4,
 "nbformat_minor": 2
}
