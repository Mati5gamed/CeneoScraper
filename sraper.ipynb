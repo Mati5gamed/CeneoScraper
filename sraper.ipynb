{
 "cells": [
  {
   "cell_type": "markdown",
   "metadata": {},
   "source": [
    "# import bilbliotek"
   ]
  },
  {
   "cell_type": "code",
   "execution_count": 1,
   "metadata": {},
   "outputs": [],
   "source": [
    "import requests\n",
    "from bs4 import BeautifulSoup"
   ]
  },
  {
   "cell_type": "markdown",
   "metadata": {},
   "source": [
    "# wysyłanie żądania do strony z opiniami o produkcie"
   ]
  },
  {
   "cell_type": "code",
   "execution_count": 2,
   "metadata": {},
   "outputs": [
    {
     "data": {
      "text/plain": [
       "200"
      ]
     },
     "execution_count": 2,
     "metadata": {},
     "output_type": "execute_result"
    }
   ],
   "source": [
    "url = \"https://www.ceneo.pl/84514582\"\n",
    "response = requests.get(url)\n",
    "response.status_code"
   ]
  },
  {
   "cell_type": "markdown",
   "metadata": {},
   "source": [
    "## Jeżeli operacja zakończy się sukicesem, wyodrębnienie z kodu strony fragmentów odpowiadająch poszczególnym opiniom"
   ]
  },
  {
   "cell_type": "code",
   "execution_count": 3,
   "metadata": {},
   "outputs": [],
   "source": [
    "if response.status_code == 200:\n",
    "    page_dom = BeautifulSoup(response.text, \"html.parser\")\n",
    "    opinions = page_dom.select(\".js_product-review:not(.user-post--highlight)\")"
   ]
  },
  {
   "cell_type": "markdown",
   "metadata": {},
   "source": [
    "##  Dla każdej z wyodrębnionych opini wydobycie z kodu HTML poszczególnych składowych i zapisanie ich w postaci złożonych struktur danych."
   ]
  },
  {
   "cell_type": "code",
   "execution_count": 7,
   "metadata": {},
   "outputs": [
    {
     "ename": "AttributeError",
     "evalue": "'NoneType' object has no attribute 'text'",
     "output_type": "error",
     "traceback": [
      "\u001b[31m---------------------------------------------------------------------------\u001b[39m",
      "\u001b[31mAttributeError\u001b[39m                            Traceback (most recent call last)",
      "\u001b[36mCell\u001b[39m\u001b[36m \u001b[39m\u001b[32mIn[7]\u001b[39m\u001b[32m, line 7\u001b[39m\n\u001b[32m      1\u001b[39m \u001b[38;5;28;01mfor\u001b[39;00m opinion \u001b[38;5;129;01min\u001b[39;00m opinions:\n\u001b[32m      2\u001b[39m     \u001b[38;5;66;03m#try: \u001b[39;00m\n\u001b[32m      3\u001b[39m         single_opinion = {\n\u001b[32m      4\u001b[39m             \u001b[33m\"\u001b[39m\u001b[33mreview_id\u001b[39m\u001b[33m\"\u001b[39m: opinion[\u001b[33m'\u001b[39m\u001b[33mdata-entry-id\u001b[39m\u001b[33m'\u001b[39m],\n\u001b[32m      5\u001b[39m            \u001b[38;5;66;03m# \"author\":opinion.select_one(\"user-post__author-name\").text.strip(),\u001b[39;00m\n\u001b[32m      6\u001b[39m             \u001b[38;5;66;03m#\"recomendation\":opinion.select_one(\".user-post-author-recomandation > em\").text.strip(),\u001b[39;00m\n\u001b[32m----> \u001b[39m\u001b[32m7\u001b[39m             \u001b[33m\"\u001b[39m\u001b[33mstars\u001b[39m\u001b[33m\"\u001b[39m:\u001b[43mopinion\u001b[49m\u001b[43m.\u001b[49m\u001b[43mselect_one\u001b[49m\u001b[43m(\u001b[49m\u001b[33;43m\"\u001b[39;49m\u001b[33;43m.user-post_score-count\u001b[39;49m\u001b[33;43m\"\u001b[39;49m\u001b[43m)\u001b[49m\u001b[43m.\u001b[49m\u001b[43mtext\u001b[49m.strip(),\n\u001b[32m      8\u001b[39m             \u001b[33m\"\u001b[39m\u001b[33mcontent\u001b[39m\u001b[33m\"\u001b[39m:opinion.select_one(\u001b[33m\"\u001b[39m\u001b[33m.user-post_text\u001b[39m\u001b[33m\"\u001b[39m).text.strip(),\n\u001b[32m      9\u001b[39m             \u001b[33m\"\u001b[39m\u001b[33mpros\u001b[39m\u001b[33m\"\u001b[39m:[p.text.strip() \u001b[38;5;28;01mfor\u001b[39;00m p \u001b[38;5;129;01min\u001b[39;00m opinion.select(\u001b[33m\"\u001b[39m\u001b[33mreview-feature__item review-feature__item--positive\u001b[39m\u001b[33m\"\u001b[39m)],\n\u001b[32m     10\u001b[39m             \u001b[33m\"\u001b[39m\u001b[33mcons\u001b[39m\u001b[33m\"\u001b[39m:[c.text.strip() \u001b[38;5;28;01mfor\u001b[39;00m c \u001b[38;5;129;01min\u001b[39;00m  opinion.select(\u001b[33m\"\u001b[39m\u001b[33mreview-feature__item review-feature__item--negative\u001b[39m\u001b[33m\"\u001b[39m)],\n\u001b[32m     11\u001b[39m             \u001b[33m\"\u001b[39m\u001b[33mlikes\u001b[39m\u001b[33m\"\u001b[39m:opinion.select_one(\u001b[33m\"\u001b[39m\u001b[33m.vote-yes[\u001b[39m\u001b[33m'\u001b[39m\u001b[33mdata-total-vote\u001b[39m\u001b[33m'\u001b[39m\u001b[33m]\u001b[39m\u001b[33m\"\u001b[39m).text.strp(),\n\u001b[32m     12\u001b[39m             \u001b[33m\"\u001b[39m\u001b[33mdislikes\u001b[39m\u001b[33m\"\u001b[39m:opinion.select_one(\u001b[33m\"\u001b[39m\u001b[33m.vote-no[\u001b[39m\u001b[33m'\u001b[39m\u001b[33mdata-total-vote\u001b[39m\u001b[33m'\u001b[39m\u001b[33m]\u001b[39m\u001b[33m\"\u001b[39m).text.strp(),\n\u001b[32m     13\u001b[39m             \u001b[33m\"\u001b[39m\u001b[33mpublish_date\u001b[39m\u001b[33m\"\u001b[39m:opinion.select_one(\u001b[33m\"\u001b[39m\u001b[33m.user-post__published > time:nth-child(1) \u001b[39m\u001b[33m\"\u001b[39m)[\u001b[33m'\u001b[39m\u001b[33mdatetime\u001b[39m\u001b[33m'\u001b[39m].strip(),\n\u001b[32m     14\u001b[39m             \u001b[33m\"\u001b[39m\u001b[33mpurchase_date\u001b[39m\u001b[33m\"\u001b[39m:opinion.select_one(\u001b[33m\"\u001b[39m\u001b[33m.user-post__published > time:nth-child(2) \u001b[39m\u001b[33m\"\u001b[39m)[\u001b[33m'\u001b[39m\u001b[33mdatetime\u001b[39m\u001b[33m'\u001b[39m].strip()\n\u001b[32m     15\u001b[39m \n\u001b[32m     16\u001b[39m         }\n\u001b[32m     17\u001b[39m         \u001b[38;5;28mprint\u001b[39m(single_opinion)\n\u001b[32m     18\u001b[39m     \u001b[38;5;66;03m#except (AttributeError, TypeError):\u001b[39;00m\n",
      "\u001b[31mAttributeError\u001b[39m: 'NoneType' object has no attribute 'text'"
     ]
    }
   ],
   "source": [
    "for opinion in opinions:\n",
    "    #try: \n",
    "        single_opinion = {\n",
    "            \"review_id\": opinion['data-entry-id'],\n",
    "           # \"author\":opinion.select_one(\"user-post__author-name\").text.strip(),\n",
    "            #\"recomendation\":opinion.select_one(\".user-post-author-recomandation > em\").text.strip(),\n",
    "            \"stars\":opinion.select_one(\".user-post__score-count\").text.strip(),\n",
    "            \"content\":opinion.select_one(\".user-post_text\").text.strip(),\n",
    "            \"pros\":[p.text.strip() for p in opinion.select(\"review-feature__item review-feature__item--positive\")],\n",
    "            \"cons\":[c.text.strip() for c in  opinion.select(\"review-feature__item review-feature__item--negative\")],\n",
    "            \"likes\":opinion.select_one(\".vote-yes['data-total-vote']\").text.strp(),\n",
    "            \"dislikes\":opinion.select_one(\".vote-no['data-total-vote']\").text.strp(),\n",
    "            \"publish_date\":opinion.select_one(\".user-post__published > time:nth-child(1) \")['datetime'].strip(),\n",
    "            \"purchase_date\":opinion.select_one(\".user-post__published > time:nth-child(2) \")['datetime'].strip()\n",
    "\n",
    "        }\n",
    "        print(single_opinion)\n",
    "    #except (AttributeError, TypeError):\n",
    "        pass"
   ]
  }
 ],
 "metadata": {
  "kernelspec": {
   "display_name": ".venv",
   "language": "python",
   "name": "python3"
  },
  "language_info": {
   "codemirror_mode": {
    "name": "ipython",
    "version": 3
   },
   "file_extension": ".py",
   "mimetype": "text/x-python",
   "name": "python",
   "nbconvert_exporter": "python",
   "pygments_lexer": "ipython3",
   "version": "3.11.4"
  }
 },
 "nbformat": 4,
 "nbformat_minor": 2
}
