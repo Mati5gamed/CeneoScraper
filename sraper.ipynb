{
 "cells": [
  {
   "cell_type": "markdown",
   "metadata": {},
   "source": [
    "# import bilbliotek"
   ]
  },
  {
   "cell_type": "code",
   "execution_count": 37,
   "metadata": {},
   "outputs": [],
   "source": [
    "import os\n",
    "import json\n",
    "import requests\n",
    "from bs4 import BeautifulSoup"
   ]
  },
  {
   "cell_type": "markdown",
   "metadata": {},
   "source": [
    "## pobieranie opini o konkretnym produkcie"
   ]
  },
  {
   "cell_type": "code",
   "execution_count": 22,
   "metadata": {},
   "outputs": [],
   "source": [
    "with open(\"headers.json\",\"r\") as file:\n",
    "    headers = json.load(file)"
   ]
  },
  {
   "cell_type": "code",
   "execution_count": 40,
   "metadata": {},
   "outputs": [
    {
     "name": "stdout",
     "output_type": "stream",
     "text": [
      "10\n",
      "10\n",
      "10\n",
      "10\n",
      "10\n",
      "10\n",
      "10\n",
      "10\n",
      "6\n",
      "[{'review_id': '13551598', 'author': 'b...a', 'recomendation': 'Polecam', 'stars': '4/5', 'content': 'Wykonana dobrze, trochę za duża, z ledwością mieści mi się na biurku, ale może być. Drukuje ciszej w porównaniu z poprzednią drukarką HP 209a. Napełniłam tusze do pełna i po ok.10 kartkach ubyło mi 4 mm czarnego tuszu w pojemniku. Mam nadzieję, że będzie wydajna. Na razie nie mogę tego stwierdzić. Fajnie, że można zobaczyć, ile ubyło tuszu. Dolewanie jest banalnie proste, tusz nie wylewa się. Martwi mnie tylko, że przenosić trzeba ją w pozycji poziomej, bo inaczej tusz może się wylewać. Ogólnie jestem zadowolona z zakupu.', 'pros': [], 'cons': [], 'likes': '3', 'dislikes': '3', 'publish_date': '2020-12-10 19:41:04', 'purchase_date': '2020-12-04 21:02:01'}, {'review_id': '18299406', 'author': 'U...o', 'recomendation': 'Polecam', 'stars': '4,5/5', 'content': 'Po 1 dniu uzytkowania mozna stwierdzic 1-polaczenie z kompem poprzez wi fi-bez problemu\\n2-tankowanie zbiorniczkow-bez problemu\\n3-montaz ,,glowic,,-beznadziejny dostep,jakies pomaranczowe badziewie ciezko wydostac z wnetrza drukarki(po cholere takie zabezpieczenie)ale udalo sie\\n4-polaczenie z telefonem -bez problemu\\n5-jak z kompa tak i z telefonu(za posrednictwem aplikacji  HP SMART) bez problemow\\n6-druk na zwyklym papierze spoko (czern i kolor )\\n7-po testach na papierze foto -zobaczymy\\n8-ogolnie -za taka kase polecam', 'pros': [], 'cons': [], 'likes': '0', 'dislikes': '0', 'publish_date': '2024-01-12 21:03:08', 'purchase_date': '2024-01-09 18:20:01'}, {'review_id': '15226709', 'author': 'k...l', 'recomendation': 'Polecam', 'stars': '4/5', 'content': 'Wszystko z opisu się zgadza. Baaardzo ekonomiczna, jakość druku wysoka, jak na czołg drukarkowy niewielka... Przypomniałem sobie tyko dlaczego nie lubię HP-ków. Mało intuicyjna aplikacja, nie tak denerwująca jak kiedyś ale konfiguracja trwała zbyt długo. A poza tym zupełnie spoko.', 'pros': [], 'cons': [], 'likes': '3', 'dislikes': '0', 'publish_date': '2021-11-18 17:47:41', 'purchase_date': '2021-11-01 18:36:33'}, {'review_id': '14283834', 'author': 'Użytkownik Ceneo', 'recomendation': 'Polecam', 'stars': '4/5', 'content': 'Bardzo wydajna i oszczędna drukarka. Solidna, dobra jakość wykonania.\\nDługo się czeka przy włączeniu zanim będzie gotowa do pracy. Dość głośna.', 'pros': [], 'cons': [], 'likes': '1', 'dislikes': '1', 'publish_date': '2021-04-14 00:32:31', 'purchase_date': '2021-03-23 08:31:21'}, {'review_id': '13654028', 'author': 'p...m', 'recomendation': 'Nie polecam', 'stars': '1/5', 'content': 'Drukarka jak na tą cenę jest bardzo słaba, Czas  potrzebny do wydrukowania pierwszej strony to prawie dwie minuty. A odgłosy wydaje takie, jakby za chwilę miała rozpaść się. W tej cenie należałoby też oczekiwać dwustronnego automatycznego wydruku. Wprawdzie info o dwustronnym wydruku jest na stronie sklepu, ale w rzeczywistości nie ma to nic wspólnego z dwustronnym wydrukiem, kartkę trzeba przenosić ręcznie zgodnie z wyświetlona instrukcją.', 'pros': [], 'cons': [], 'likes': '6', 'dislikes': '1', 'publish_date': '2020-12-26 21:42:32', 'purchase_date': '2020-11-26 08:21:40'}, {'review_id': '13243464', 'author': 'm...i', 'recomendation': 'Nie polecam', 'stars': '0,5/5', 'content': 'Niestety pierwsze wrazenie po uruchomieniu sprzetu negatywne. Odrazu trzeba bylo skladac reklamacje poniewaz jakosc druku odbiegała od normy. Po zgloszeniu okazalo sie ze jest uszkodzona glowica. Zobaczymy jak przyjdzie nowa glowica czy cos to da. Jaknarazie to wielka porażka a myslalam ze sprzet za ta cene bedzie działał bez zarzutu. Niestety pomyliłam się.', 'pros': [], 'cons': [], 'likes': '8', 'dislikes': '4', 'publish_date': '2020-10-20 18:00:33', 'purchase_date': '2020-10-16 15:51:18'}, {'review_id': '16089474', 'author': 'D...5', 'recomendation': 'Polecam', 'stars': '5/5', 'content': 'Super, wszystko sprawnie poszło z podłączeniem, korzystam i łączę się z telefonu bez problemowo. Polecam', 'pros': [], 'cons': [], 'likes': '0', 'dislikes': '0', 'publish_date': '2022-05-16 14:13:13', 'purchase_date': '2022-05-09 13:48:10'}, {'review_id': '12113236', 'author': 'Użytkownik Ceneo', 'recomendation': 'Polecam', 'stars': '5/5', 'content': 'Solidne wykonanie, zapas tuszy, tania w eksploatacji ma wszystko co  jest potrzebne w drukarce. Polecam!', 'pros': [], 'cons': [], 'likes': '0', 'dislikes': '0', 'publish_date': '2020-04-10 05:51:12', 'purchase_date': '2020-04-06 11:59:42'}, {'review_id': '12994706', 'author': 'w...e', 'recomendation': 'Polecam', 'stars': '5/5', 'content': 'SUPER DRUKARKA, UŻYWAM OD KILKU DNI I JESTEM POZYTYWNIE ZASKOCZONY, INSTALACJA I KONFIGURACJA MEGA PROSTA', 'pros': [], 'cons': [], 'likes': '2', 'dislikes': '3', 'publish_date': '2020-08-24 07:37:37', 'purchase_date': '2020-08-15 17:09:03'}, {'review_id': '15350354', 'author': 'm...c', 'recomendation': 'Polecam', 'stars': '5/5', 'content': 'Produkt zgodny z opisem, jakość wydruku bardzo dobra, prosta i wygodna obsługa. Bardzo polecam', 'pros': [], 'cons': [], 'likes': '0', 'dislikes': '0', 'publish_date': '2021-12-11 18:38:26', 'purchase_date': '2021-11-26 16:46:12'}, {'review_id': '15436403', 'author': 'l...7', 'recomendation': 'Polecam', 'stars': '5/5', 'content': 'Super urządzenie. Fajnie ze można z każdego urządzenia drukować. Jak dla nas strzał w 10tke', 'pros': [], 'cons': [], 'likes': '0', 'dislikes': '0', 'publish_date': '2021-12-27 22:41:41', 'purchase_date': '2021-11-26 23:16:40'}, {'review_id': '13052806', 'author': 'k...o', 'recomendation': 'Polecam', 'stars': '4,5/5', 'content': 'bardzo polecam fajna opcja drukowania bez rozciągania kabli za pomocą bluetooth i wifi', 'pros': [], 'cons': [], 'likes': '0', 'dislikes': '0', 'publish_date': '2020-09-06 20:45:11', 'purchase_date': '2020-08-24 21:46:39'}, {'review_id': '18426644', 'author': 'a...a', 'recomendation': 'Polecam', 'stars': '5/5', 'content': 'Świetny produkt. Kupiony przez polecenie innego użytkownika.', 'pros': [], 'cons': [], 'likes': '1', 'dislikes': '0', 'publish_date': '2024-02-22 13:19:54', 'purchase_date': '2024-02-19 13:24:42'}, {'review_id': '11718481', 'author': 'Użytkownik Ceneo', 'recomendation': 'Polecam', 'stars': '4,5/5', 'content': 'Zgodna z opisem producenta. Trochę wolna ale wydruk świetnej jakości.', 'pros': [], 'cons': [], 'likes': '0', 'dislikes': '0', 'publish_date': '2020-02-10 11:32:05', 'purchase_date': '2020-01-31 09:12:05'}, {'review_id': '12410583', 'author': 'Użytkownik Ceneo', 'recomendation': 'Polecam', 'stars': '4/5', 'content': 'Mam kilka dni, zależy mi na taniej eksploatacji i dlatego ją wybrałem', 'pros': [], 'cons': [], 'likes': '0', 'dislikes': '0', 'publish_date': '2020-05-13 07:59:00', 'purchase_date': '2020-04-17 08:10:52'}, {'review_id': '17155499', 'author': 'k...9', 'recomendation': 'Polecam', 'stars': '5/5', 'content': 'Urządzenie super,łatwe w obsłudze,jakość wydruku bardzo dobra.', 'pros': [], 'cons': [], 'likes': '0', 'dislikes': '0', 'publish_date': '2023-02-16 20:36:59', 'purchase_date': '2023-01-11 22:28:49'}, {'review_id': '16618399', 'author': 'kimi087', 'recomendation': 'Polecam', 'stars': '5/5', 'content': 'Polecam. Drukarka po wstępnej instalacji działa bez zarzutu.', 'pros': [], 'cons': [], 'likes': '0', 'dislikes': '0', 'publish_date': '2022-10-11 14:07:20', 'purchase_date': '2022-09-26 11:54:16'}, {'review_id': '13301094', 'author': 'e...2', 'recomendation': 'Polecam', 'stars': '5/5', 'content': 'Spełnia moje oczekiwania, jestem bardzo zadowolona z zakupu.', 'pros': [], 'cons': [], 'likes': '0', 'dislikes': '0', 'publish_date': '2020-10-30 20:47:50', 'purchase_date': '2020-10-17 09:28:11'}, {'review_id': '12260419', 'author': 'Użytkownik Ceneo', 'recomendation': 'Polecam', 'stars': '4/5', 'content': 'Wszystko super oprócz możliwości drukowana dwustronnego', 'pros': [], 'cons': [], 'likes': '0', 'dislikes': '0', 'publish_date': '2020-04-26 10:24:20', 'purchase_date': '2020-03-24 18:52:04'}, {'review_id': '15488838', 'author': 'r...i', 'recomendation': 'Polecam', 'stars': '5/5', 'content': 'Super drukarka na domowy użytek. Bardzo wydajne tusze.', 'pros': [], 'cons': [], 'likes': '0', 'dislikes': '0', 'publish_date': '2022-01-01 20:10:02', 'purchase_date': '2021-11-18 16:25:48'}, {'review_id': '16895817', 'author': 'k...k', 'recomendation': 'Polecam', 'stars': '5/5', 'content': 'Fajna drukarka, na domowe potrzeby wystarczająca 😀', 'pros': [], 'cons': [], 'likes': '0', 'dislikes': '0', 'publish_date': '2022-12-17 09:08:05', 'purchase_date': '2022-11-25 20:38:20'}, {'review_id': '13532706', 'author': 'a...m', 'recomendation': 'Polecam', 'stars': '5/5', 'content': 'Super  Ale jestem w trakcie testowania.', 'pros': [], 'cons': [], 'likes': '1', 'dislikes': '0', 'publish_date': '2020-12-08 23:38:19', 'purchase_date': '2020-12-03 11:37:21'}, {'review_id': '12275625', 'author': 'Użytkownik Ceneo', 'recomendation': 'Polecam', 'stars': '5/5', 'content': 'Dwa tygodnie to za mało ale jak narazie ok.', 'pros': [], 'cons': [], 'likes': '0', 'dislikes': '0', 'publish_date': '2020-04-28 10:35:10', 'purchase_date': '2020-04-14 12:16:01'}, {'review_id': '11916949', 'author': 'paulina 85 85', 'recomendation': 'Polecam', 'stars': '5/5', 'content': 'MEGA SUPER DRUKARKA !!!! ŁATWA W OBSŁUDZE', 'pros': [], 'cons': [], 'likes': '0', 'dislikes': '0', 'publish_date': '2020-03-16 15:19:09', 'purchase_date': '2020-01-05 15:34:15'}, {'review_id': '13196564', 'author': 'm...6', 'recomendation': 'Polecam', 'stars': '5/5', 'content': 'Świetna drukarka, szybka i bezproblemowam', 'pros': [], 'cons': [], 'likes': '0', 'dislikes': '0', 'publish_date': '2020-10-12 14:43:37', 'purchase_date': '2020-09-08 21:35:26'}, {'review_id': '11687425', 'author': 'Użytkownik Ceneo', 'recomendation': 'Polecam', 'stars': '5/5', 'content': 'Bardzo nowoczesne i użytkowe urządzenie.', 'pros': [], 'cons': [], 'likes': '0', 'dislikes': '0', 'publish_date': '2020-02-04 08:47:33', 'purchase_date': '2020-01-29 17:33:53'}, {'review_id': '17057527', 'author': 'b...1', 'recomendation': 'Polecam', 'stars': '5/5', 'content': 'Estetyka i jakość druku pierwsza klasa.', 'pros': [], 'cons': [], 'likes': '0', 'dislikes': '0', 'publish_date': '2023-01-25 01:07:04', 'purchase_date': '2023-01-13 09:46:01'}, {'review_id': '13499005', 'author': 'd...r', 'recomendation': 'Polecam', 'stars': '5/5', 'content': 'Polecam, spełniła oczekiwania klienta.', 'pros': [], 'cons': [], 'likes': '0', 'dislikes': '0', 'publish_date': '2020-12-03 19:39:55', 'purchase_date': '2020-11-03 12:33:27'}, {'review_id': '15967999', 'author': 'a...k', 'recomendation': 'Polecam', 'stars': '5/5', 'content': 'Drukarka bardzo dobra,super jakość', 'pros': [], 'cons': [], 'likes': '0', 'dislikes': '0', 'publish_date': '2022-04-15 19:08:48', 'purchase_date': '2022-04-09 10:26:21'}, {'review_id': '14281219', 'author': 'r...z', 'recomendation': 'Polecam', 'stars': '4/5', 'content': 'Mógłby mieć lepszą jakość wydruku.', 'pros': [], 'cons': [], 'likes': '0', 'dislikes': '0', 'publish_date': '2021-04-13 18:13:42', 'purchase_date': '2021-04-06 17:56:56'}, {'review_id': '18240134', 'author': 's...i', 'recomendation': 'Polecam', 'stars': '4/5', 'content': 'to prezent wiec jeszcze nie wiem', 'pros': [], 'cons': [], 'likes': '0', 'dislikes': '0', 'publish_date': '2023-12-23 15:16:48', 'purchase_date': '2023-12-20 11:35:25'}, {'review_id': '17856821', 'author': 'h...9', 'recomendation': 'Polecam', 'stars': '4/5', 'content': 'Dopiero otrzymałam i nie mam zastrzeżeń.', 'pros': [], 'cons': [], 'likes': '0', 'dislikes': '1', 'publish_date': '2023-08-31 11:47:02', 'purchase_date': '2023-08-23 16:00:11'}, {'review_id': '15613956', 'author': 'i...4', 'recomendation': 'Polecam', 'stars': '5/5', 'content': 'Działa perfekcyjnie!!! Polecam', 'pros': [], 'cons': [], 'likes': '0', 'dislikes': '0', 'publish_date': '2022-01-26 14:17:44', 'purchase_date': '2022-01-11 16:27:46'}, {'review_id': '14871955', 'author': 's...i', 'recomendation': 'Polecam', 'stars': '5/5', 'content': 'Dobry stosunek jakości do ceny', 'pros': [], 'cons': [], 'likes': '0', 'dislikes': '0', 'publish_date': '2021-08-22 17:12:17', 'purchase_date': '2021-07-06 13:55:36'}, {'review_id': '12157146', 'author': 'jozef mazurek38', 'recomendation': 'Polecam', 'stars': '4,5/5', 'content': 'Wygłąd i funkcjonalność super.', 'pros': [], 'cons': [], 'likes': '0', 'dislikes': '0', 'publish_date': '2020-04-15 20:50:09', 'purchase_date': '2020-04-06 08:50:47'}, {'review_id': '16501020', 'author': 'o...r', 'recomendation': 'Polecam', 'stars': '4/5', 'content': 'Na razie wszystko ok, polecam', 'pros': [], 'cons': [], 'likes': '0', 'dislikes': '0', 'publish_date': '2022-09-08 11:48:22', 'purchase_date': '2022-09-01 15:09:35'}, {'review_id': '16001107', 'author': 'a...k', 'recomendation': 'Polecam', 'stars': '5/5', 'content': 'Bardzo fajna drukarka polecam', 'pros': [], 'cons': [], 'likes': '0', 'dislikes': '0', 'publish_date': '2022-04-23 21:12:46', 'purchase_date': '2022-04-09 10:10:50'}, {'review_id': '12215968', 'author': 'Użytkownik Ceneo', 'recomendation': 'Polecam', 'stars': '4/5', 'content': 'Trochę głośny ale poza tym ok', 'pros': [], 'cons': [], 'likes': '0', 'dislikes': '0', 'publish_date': '2020-04-22 08:00:43', 'purchase_date': '2020-04-02 10:15:24'}, {'review_id': '16263998', 'author': 'k...5', 'recomendation': 'Polecam', 'stars': '5/5', 'content': 'Jestem zadowolony z zakupu.', 'pros': [], 'cons': [], 'likes': '0', 'dislikes': '0', 'publish_date': '2022-06-29 13:27:23', 'purchase_date': '2022-06-22 18:19:15'}, {'review_id': '15569815', 'author': 'm...g', 'recomendation': 'Polecam', 'stars': '4,5/5', 'content': 'Polecam tania w eksplatacji', 'pros': [], 'cons': [], 'likes': '0', 'dislikes': '0', 'publish_date': '2022-01-17 11:06:31', 'purchase_date': '2021-12-30 21:35:04'}, {'review_id': '13621184', 'author': 'j...a', 'recomendation': 'Polecam', 'stars': '4,5/5', 'content': 'Tanie drukowanie w kolorze', 'pros': [], 'cons': [], 'likes': '0', 'dislikes': '0', 'publish_date': '2020-12-21 10:53:30', 'purchase_date': '2020-11-27 17:23:25'}, {'review_id': '16629967', 'author': 'm...a', 'recomendation': 'Polecam', 'stars': '5/5', 'content': 'Produkt 5* , jest super', 'pros': [], 'cons': [], 'likes': '0', 'dislikes': '0', 'publish_date': '2022-10-13 19:55:05', 'purchase_date': '2022-09-29 18:01:35'}, {'review_id': '13476212', 'author': 's...y', 'recomendation': 'Polecam', 'stars': '5/5', 'content': 'Sprzęt adekwatny doceny', 'pros': [], 'cons': [], 'likes': '0', 'dislikes': '0', 'publish_date': '2020-12-01 09:21:18', 'purchase_date': '2020-11-08 00:19:21'}, {'review_id': '13098827', 'author': 'e...o', 'recomendation': 'Polecam', 'stars': '5/5', 'content': 'Drukarka dla mnie super', 'pros': [], 'cons': [], 'likes': '0', 'dislikes': '0', 'publish_date': '2020-09-18 10:21:40', 'purchase_date': '2020-09-16 11:27:42'}, {'review_id': '13192635', 'author': 'p...n', 'recomendation': 'Polecam', 'stars': '5/5', 'content': 'Bardzo dobra drukarka', 'pros': [], 'cons': [], 'likes': '0', 'dislikes': '0', 'publish_date': '2020-10-11 21:22:55', 'purchase_date': '2020-10-02 14:46:16'}, {'review_id': '12104701', 'author': 'Użytkownik Ceneo', 'recomendation': 'Polecam', 'stars': '5/5', 'content': 'Towar zgodny z opisem.', 'pros': [], 'cons': [], 'likes': '0', 'dislikes': '0', 'publish_date': '2020-04-09 11:16:52', 'purchase_date': '2020-04-06 16:34:35'}, {'review_id': '17454482', 'author': 'm...k', 'recomendation': 'Polecam', 'stars': '5/5', 'content': 'Towar zgodny z opisem', 'pros': [], 'cons': [], 'likes': '0', 'dislikes': '0', 'publish_date': '2023-04-27 23:06:09', 'purchase_date': '2023-04-24 22:20:56'}, {'review_id': '13266383', 'author': 's...e', 'recomendation': 'Polecam', 'stars': '5/5', 'content': 'Bardzo dobry produkt', 'pros': [], 'cons': [], 'likes': '0', 'dislikes': '0', 'publish_date': '2020-10-23 22:46:57', 'purchase_date': '2020-09-30 10:26:35'}, {'review_id': '12259002', 'author': 'Użytkownik Ceneo', 'recomendation': 'Polecam', 'stars': '5/5', 'content': 'Dobra jakość do ceny', 'pros': [], 'cons': [], 'likes': '0', 'dislikes': '0', 'publish_date': '2020-04-26 00:00:43', 'purchase_date': '2020-03-24 22:15:09'}, {'review_id': '16145481', 'author': 'Zdzisław', 'recomendation': 'Polecam', 'stars': '5/5', 'content': 'Bardzo ekonomiczny', 'pros': [], 'cons': [], 'likes': '0', 'dislikes': '0', 'publish_date': '2022-05-30 09:35:05', 'purchase_date': '2022-05-13 13:34:56'}, {'review_id': '13447308', 'author': 'g...3', 'recomendation': 'Polecam', 'stars': '5/5', 'content': 'Super, polecam.', 'pros': [], 'cons': [], 'likes': '0', 'dislikes': '0', 'publish_date': '2020-11-25 19:04:50', 'purchase_date': '2020-11-19 17:46:50'}, {'review_id': '13073770', 'author': 'a...4', 'recomendation': 'Polecam', 'stars': '5/5', 'content': 'Polecam drukarkę', 'pros': [], 'cons': [], 'likes': '0', 'dislikes': '0', 'publish_date': '2020-09-11 15:10:55', 'purchase_date': '2020-09-04 21:08:01'}, {'review_id': '12340788', 'author': 'Izabela', 'recomendation': 'Polecam', 'stars': '5/5', 'content': 'super urządzenie', 'pros': [], 'cons': [], 'likes': '0', 'dislikes': '0', 'publish_date': '2020-05-05 14:50:33', 'purchase_date': '2020-04-27 13:16:01'}, {'review_id': '16742248', 'author': 'm...4', 'recomendation': 'Polecam', 'stars': '5/5', 'content': 'Super produkt.', 'pros': [], 'cons': [], 'likes': '0', 'dislikes': '0', 'publish_date': '2022-11-14 10:17:42', 'purchase_date': '2022-11-06 17:50:50'}, {'review_id': '18246374', 'author': 'a...n', 'recomendation': 'Polecam', 'stars': '4,5/5', 'content': 'Produkt dobry.', 'pros': [], 'cons': [], 'likes': '0', 'dislikes': '0', 'publish_date': '2023-12-27 10:06:03', 'purchase_date': '2023-12-15 11:49:09'}, {'review_id': '13296391', 'author': 'Wojciech', 'recomendation': 'Polecam', 'stars': '4,5/5', 'content': 'super drukarka', 'pros': [], 'cons': [], 'likes': '0', 'dislikes': '0', 'publish_date': '2020-10-30 08:13:36', 'purchase_date': '2020-10-12 09:59:59'}, {'review_id': '12339792', 'author': 'Użytkownik Ceneo', 'recomendation': 'Polecam', 'stars': '5/5', 'content': 'Bardzo dobra', 'pros': [], 'cons': [], 'likes': '0', 'dislikes': '0', 'publish_date': '2020-05-05 13:19:24', 'purchase_date': '2020-04-04 12:52:07'}, {'review_id': '16439266', 'author': 'a...w', 'recomendation': 'Polecam', 'stars': '5/5', 'content': 'Rewelacyjny', 'pros': [], 'cons': [], 'likes': '0', 'dislikes': '0', 'publish_date': '2022-08-20 10:52:31', 'purchase_date': '2022-08-16 12:05:37'}, {'review_id': '14179739', 'author': 'l...6', 'recomendation': 'Polecam', 'stars': '5/5', 'content': 'same zalety', 'pros': [], 'cons': [], 'likes': '0', 'dislikes': '0', 'publish_date': '2021-03-25 16:42:25', 'purchase_date': '2021-03-18 19:53:33'}, {'review_id': '13024721', 'author': 'j...z', 'recomendation': 'Polecam', 'stars': '5/5', 'content': 'do domu ok', 'pros': [], 'cons': [], 'likes': '0', 'dislikes': '0', 'publish_date': '2020-08-30 18:13:33', 'purchase_date': '2020-08-16 15:59:37'}, {'review_id': '16514675', 'author': 'b...o', 'recomendation': 'Polecam', 'stars': '5/5', 'content': 'Polecam', 'pros': [], 'cons': [], 'likes': '0', 'dislikes': '0', 'publish_date': '2022-09-13 10:19:26', 'purchase_date': '2022-09-06 08:54:36'}, {'review_id': '15905984', 'author': 'u...a', 'recomendation': 'Polecam', 'stars': '5/5', 'content': 'Polecam', 'pros': [], 'cons': [], 'likes': '0', 'dislikes': '0', 'publish_date': '2022-04-01 20:42:22', 'purchase_date': '2022-03-20 09:54:22'}, {'review_id': '13099328', 'author': 'x...e', 'recomendation': 'Polecam', 'stars': '5/5', 'content': 'jest OK', 'pros': [], 'cons': [], 'likes': '0', 'dislikes': '0', 'publish_date': '2020-09-18 11:31:32', 'purchase_date': '2020-09-10 17:25:50'}, {'review_id': '17439873', 'author': 'm...j', 'recomendation': 'Polecam', 'stars': '5/5', 'content': 'Oki', 'pros': [], 'cons': [], 'likes': '0', 'dislikes': '0', 'publish_date': '2023-04-25 06:20:21', 'purchase_date': '2023-04-14 16:30:39'}, {'review_id': '16337907', 'author': 'r...a', 'recomendation': 'Polecam', 'stars': '4/5', 'content': 'Ok', 'pros': [], 'cons': [], 'likes': '0', 'dislikes': '0', 'publish_date': '2022-07-20 20:49:29', 'purchase_date': '2022-07-10 19:50:13'}, {'review_id': '13283055', 'author': 'a...s', 'recomendation': 'Polecam', 'stars': '5/5', 'content': 'Ok', 'pros': [], 'cons': [], 'likes': '0', 'dislikes': '0', 'publish_date': '2020-10-28 07:00:10', 'purchase_date': '2020-10-15 22:18:40'}, {'review_id': '13060392', 'author': 'd...b', 'recomendation': 'Polecam', 'stars': '4/5', 'content': 'Ok', 'pros': [], 'cons': [], 'likes': '0', 'dislikes': '0', 'publish_date': '2020-09-08 20:36:40', 'purchase_date': '2020-09-01 12:14:51'}, {'review_id': '12145968', 'author': 'Użytkownik Ceneo', 'recomendation': 'Polecam', 'stars': '5/5', 'content': 'Ok', 'pros': [], 'cons': [], 'likes': '0', 'dislikes': '0', 'publish_date': '2020-04-14 22:59:01', 'purchase_date': '2020-03-24 10:57:16'}, {'review_id': '12046268', 'author': 'Użytkownik Ceneo', 'recomendation': 'Polecam', 'stars': '5/5', 'content': 'ok', 'pros': [], 'cons': [], 'likes': '0', 'dislikes': '0', 'publish_date': '2020-04-02 12:47:54', 'purchase_date': '2020-03-19 12:44:23'}, {'review_id': '13466015', 'author': 'w...d', 'recomendation': 'Nie polecam', 'stars': '1/5', 'content': 'badziew', 'pros': [], 'cons': [], 'likes': '1', 'dislikes': '0', 'publish_date': '2020-11-28 17:08:14', 'purchase_date': '2020-10-28 14:03:29'}, {'review_id': '15730485', 'author': 'b...o', 'recomendation': 'Nie polecam', 'stars': '2/5', 'content': 'POLECAM', 'pros': [], 'cons': [], 'likes': '0', 'dislikes': '0', 'publish_date': '2022-02-21 10:21:10', 'purchase_date': '2022-02-14 08:19:16'}, {'review_id': '15798075', 'author': 'b...o', 'recomendation': 'Nie polecam', 'stars': '0,5/5', 'content': 'polecam', 'pros': [], 'cons': [], 'likes': '0', 'dislikes': '1', 'publish_date': '2022-03-09 11:10:06', 'purchase_date': '2022-03-08 11:01:43'}]\n"
     ]
    }
   ],
   "source": [
    "product_id = \"84514582\"\n",
    "next_page = f\"https://www.ceneo.pl/{product_id}#tab=reviews\"\n",
    "all_opinions = []\n",
    "while next_page:\n",
    "    response = requests.get(next_page, headers=headers)\n",
    "   #print(response.text)\n",
    "    if response.status_code == 200:\n",
    "        page_dom = BeautifulSoup(response.text, \"html.parser\")\n",
    "        opinions = page_dom.select(\".js_product-review:not(.user-post--highlight)\")\n",
    "        print(len(opinions))\n",
    "        for opinion in opinions:\n",
    "            try: \n",
    "                single_opinion = {\n",
    "                    \"review_id\": opinion['data-entry-id'],\n",
    "                    \"author\":opinion.select_one(\".user-post__author-name\").text.strip(),\n",
    "                    \"recomendation\":opinion.select_one(\".user-post__author-recomendation > em\").text.strip(),\n",
    "                    \"stars\":opinion.select_one(\".user-post__score-count\").text.strip(),\n",
    "                    \"content\":opinion.select_one(\".user-post__text\").text.strip(),\n",
    "                    \"pros\":[p.text.strip() for p in opinion.select(\"review-feature__item review-feature__item--positive\")],\n",
    "                    \"cons\":[c.text.strip() for c in  opinion.select(\"review-feature__item review-feature__item--negative\")],\n",
    "                    \"likes\":opinion.select_one(\".vote-yes > span\").text.strip(),\n",
    "                    \"dislikes\":opinion.select_one(\".vote-no > span\").text.strip(),\n",
    "                    \"publish_date\":opinion.select_one(\".user-post__published > time:nth-child(1)\")['datetime'].strip(),\n",
    "                    \"purchase_date\":opinion.select_one(\".user-post__published > time:nth-child(2)\")['datetime'].strip()\n",
    "\n",
    "                }\n",
    "\n",
    "                all_opinions.append(single_opinion)\n",
    "\n",
    "            except (AttributeError, TypeError):\n",
    "                pass\n",
    "        try:\n",
    "            next_page = \"https://www.ceneo.pl\"+ page_dom.select_one(\".pagination__next\")[\"href\"]\n",
    "            \n",
    "        except TypeError:\n",
    "            next_page = None\n",
    "print(all_opinions)"
   ]
  },
  {
   "cell_type": "markdown",
   "metadata": {},
   "source": [
    "## Zapisanie wszystkich opini o konkretnym produkcie w bazie danych"
   ]
  },
  {
   "cell_type": "code",
   "execution_count": 41,
   "metadata": {},
   "outputs": [],
   "source": [
    "if not os.path.exists(\"./opinions\"):\n",
    "    os.mkdir(\"./opinions\")"
   ]
  },
  {
   "cell_type": "code",
   "execution_count": 45,
   "metadata": {},
   "outputs": [],
   "source": [
    "with open(f\"./opinions/{product_id}.json\" , \"w\", encoding=\"utf-8\") as jf:\n",
    "    json.dump(all_opinions, jf, indent = 4, ensure_ascii=False)"
   ]
  }
 ],
 "metadata": {
  "kernelspec": {
   "display_name": ".venv",
   "language": "python",
   "name": "python3"
  },
  "language_info": {
   "codemirror_mode": {
    "name": "ipython",
    "version": 3
   },
   "file_extension": ".py",
   "mimetype": "text/x-python",
   "name": "python",
   "nbconvert_exporter": "python",
   "pygments_lexer": "ipython3",
   "version": "3.11.4"
  }
 },
 "nbformat": 4,
 "nbformat_minor": 2
}
